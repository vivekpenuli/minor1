{
  "nbformat": 4,
  "nbformat_minor": 0,
  "metadata": {
    "colab": {
      "provenance": [],
      "include_colab_link": true
    },
    "kernelspec": {
      "name": "python3",
      "display_name": "Python 3"
    },
    "language_info": {
      "name": "python"
    },
    "accelerator": "GPU"
  },
  "cells": [
    {
      "cell_type": "markdown",
      "metadata": {
        "id": "view-in-github",
        "colab_type": "text"
      },
      "source": [
        "<a href=\"https://colab.research.google.com/github/vivekpenuli/minor1/blob/main/Tuber_minor1_bciit.ipynb\" target=\"_parent\"><img src=\"https://colab.research.google.com/assets/colab-badge.svg\" alt=\"Open In Colab\"/></a>"
      ]
    },
    {
      "cell_type": "code",
      "metadata": {
        "colab": {
          "base_uri": "https://localhost:8080/"
        },
        "id": "W8S_vT8491YX",
        "outputId": "7aca9080-f443-4a90-92b9-dbd6bf266a72"
      },
      "source": [
        "\n",
        "from google.colab import drive\n",
        "drive.mount('/content/drive/')"
      ],
      "execution_count": null,
      "outputs": [
        {
          "output_type": "stream",
          "name": "stdout",
          "text": [
            "Mounted at /content/drive/\n"
          ]
        }
      ]
    },
    {
      "cell_type": "code",
      "metadata": {
        "id": "XsWJAb4H95kq"
      },
      "source": [
        "\n",
        "import keras\n",
        "\n",
        "#import the required libraries and methods\n",
        "from keras.layers import Input, Lambda, Dense, Flatten, Dropout\n",
        "from keras.models import Model\n",
        "from keras.applications.vgg16 import VGG16\n",
        "from keras.applications.vgg16 import preprocess_input\n",
        "from keras.preprocessing import image\n",
        "from keras.preprocessing.image import ImageDataGenerator\n",
        "from keras.models import Sequential\n",
        "import numpy as np\n",
        "from glob import glob\n",
        "import matplotlib.pyplot as plt"
      ],
      "execution_count": null,
      "outputs": []
    },
    {
      "cell_type": "code",
      "metadata": {
        "id": "D5_IAP0n95hu"
      },
      "source": [
        "ImgSize = [224, 224]\n",
        "#To get the location of \"malaria detection cell images\" dataset in the drive\n",
        "train_path = '/content/drive/MyDrive/Tuberculosis/Train'\n",
        "test_path = '/content/drive/MyDrive/Tuberculosis/Test'\n",
        "validation_path='/content/drive/MyDrive/Tuberculosis/valid'"
      ],
      "execution_count": null,
      "outputs": []
    },
    {
      "cell_type": "code",
      "metadata": {
        "id": "avcWU0Pl95e1"
      },
      "source": [
        "import os\n",
        "train_para_dir = os.path.join(train_path,'Normal')  # directory with training Normal pictures\n",
        "train_un_dir = os.path.join(train_path, 'Tuberculosis')  # directory with  training Tuberculosis pictures\n",
        "Testing_para_dir = os.path.join(test_path, 'Normal')  # directory with  testing Normal pictures\n",
        "Testing_un_dir = os.path.join(test_path, 'Tuberculosis')    # directory with testing Tuberculosis picture\n",
        "validation_para_dir = os.path.join(validation_path, 'Normal')  # directory with  validation Normal pictures\n",
        "validation_un_dir = os.path.join(validation_path, 'Tuberculosis')  # directory with Validation Tuberculosis picture"
      ],
      "execution_count": null,
      "outputs": []
    },
    {
      "cell_type": "code",
      "metadata": {
        "id": "WJJwOyze95b-"
      },
      "source": [
        "num_para_tr = len(os.listdir(train_para_dir))\n",
        "num_un_tr = len(os.listdir(train_un_dir))\n",
        "\n",
        "num_para_test = len(os.listdir(Testing_para_dir))\n",
        "num_un_test = len(os.listdir(Testing_un_dir))\n",
        "\n",
        "\n",
        "num_para_val = len(os.listdir(validation_para_dir))\n",
        "num_un_val = len(os.listdir(validation_un_dir))\n",
        "\n",
        "total_train = num_para_tr + num_un_tr\n",
        "total_val = num_para_val + num_un_val\n",
        "total_test=num_para_test + num_un_test"
      ],
      "execution_count": null,
      "outputs": []
    },
    {
      "cell_type": "code",
      "metadata": {
        "colab": {
          "base_uri": "https://localhost:8080/"
        },
        "id": "85q4WIgH95ZT",
        "outputId": "8a33a698-b2d7-49ce-d9a4-ea07de0a4cf6"
      },
      "source": [
        "print('total training Normal images:', num_para_tr)\n",
        "print('total training Tuberculosis images:', num_un_tr)\n",
        "print(\"--\")\n",
        "print('total Testing Normal images:', num_para_test)\n",
        "print('total Testing Tuberculosis images:', num_un_test)\n",
        "print(\"--\")\n",
        "print('total validation Normal images:', num_para_val)\n",
        "print('total validation Tuberculosis images:', num_un_val)\n",
        "print(\"--\")\n",
        "print(\"Total training images:\", total_train)\n",
        "print(\"Total Testing images:\", total_test)\n",
        "print(\"Total validation images:\", total_val)"
      ],
      "execution_count": null,
      "outputs": [
        {
          "output_type": "stream",
          "name": "stdout",
          "text": [
            "total training Normal images: 2099\n",
            "total training Tuberculosis images: 2115\n",
            "--\n",
            "total Testing Normal images: 700\n",
            "total Testing Tuberculosis images: 700\n",
            "--\n",
            "total validation Normal images: 700\n",
            "total validation Tuberculosis images: 700\n",
            "--\n",
            "Total training images: 4214\n",
            "Total Testing images: 1400\n",
            "Total validation images: 1400\n"
          ]
        }
      ]
    },
    {
      "cell_type": "code",
      "metadata": {
        "id": "uAKPYp7MCS7T",
        "colab": {
          "base_uri": "https://localhost:8080/"
        },
        "outputId": "36ef86c0-bb76-45e6-f6bc-491555d41833"
      },
      "source": [
        "vgg = VGG16(input_shape=ImgSize + [3], weights='imagenet', include_top=False)"
      ],
      "execution_count": null,
      "outputs": [
        {
          "output_type": "stream",
          "name": "stdout",
          "text": [
            "Downloading data from https://storage.googleapis.com/tensorflow/keras-applications/vgg16/vgg16_weights_tf_dim_ordering_tf_kernels_notop.h5\n",
            "58889256/58889256 [==============================] - 0s 0us/step\n"
          ]
        }
      ]
    },
    {
      "cell_type": "code",
      "metadata": {
        "id": "xIBS27cFD_pg"
      },
      "source": [
        "\n",
        "for layer in vgg.layers:\n",
        "    layer.trainable = False"
      ],
      "execution_count": null,
      "outputs": []
    },
    {
      "cell_type": "code",
      "metadata": {
        "colab": {
          "base_uri": "https://localhost:8080/"
        },
        "id": "gRs_1fhjEBr8",
        "outputId": "7dcad64f-9ba0-4bb7-cfef-aefb1abfbe08"
      },
      "source": [
        "\n",
        "folders = glob('/content/drive/MyDrive/Tuberculosis/Train/*')\n",
        "print(folders)"
      ],
      "execution_count": null,
      "outputs": [
        {
          "output_type": "stream",
          "name": "stdout",
          "text": [
            "['/content/drive/MyDrive/Tuberculosis/Train/Normal', '/content/drive/MyDrive/Tuberculosis/Train/Tuberculosis']\n"
          ]
        }
      ]
    },
    {
      "cell_type": "code",
      "metadata": {
        "id": "qRjI_RhBEBoh"
      },
      "source": [
        "x = Flatten()(vgg.output)\n",
        "prediction = Dense(len(folders), activation='softmax')(x)"
      ],
      "execution_count": null,
      "outputs": []
    },
    {
      "cell_type": "code",
      "metadata": {
        "id": "7WnmO9_fEFap"
      },
      "source": [
        "model = Model(inputs=vgg.input, outputs=prediction)"
      ],
      "execution_count": null,
      "outputs": []
    },
    {
      "cell_type": "code",
      "metadata": {
        "colab": {
          "base_uri": "https://localhost:8080/"
        },
        "id": "hao6R7VtEHSx",
        "outputId": "c1f1d1ba-4b1c-42e6-c551-7f40e66be1c0"
      },
      "source": [
        "model.summary()"
      ],
      "execution_count": null,
      "outputs": [
        {
          "output_type": "stream",
          "name": "stdout",
          "text": [
            "Model: \"model\"\n",
            "_________________________________________________________________\n",
            " Layer (type)                Output Shape              Param #   \n",
            "=================================================================\n",
            " input_1 (InputLayer)        [(None, 224, 224, 3)]     0         \n",
            "                                                                 \n",
            " block1_conv1 (Conv2D)       (None, 224, 224, 64)      1792      \n",
            "                                                                 \n",
            " block1_conv2 (Conv2D)       (None, 224, 224, 64)      36928     \n",
            "                                                                 \n",
            " block1_pool (MaxPooling2D)  (None, 112, 112, 64)      0         \n",
            "                                                                 \n",
            " block2_conv1 (Conv2D)       (None, 112, 112, 128)     73856     \n",
            "                                                                 \n",
            " block2_conv2 (Conv2D)       (None, 112, 112, 128)     147584    \n",
            "                                                                 \n",
            " block2_pool (MaxPooling2D)  (None, 56, 56, 128)       0         \n",
            "                                                                 \n",
            " block3_conv1 (Conv2D)       (None, 56, 56, 256)       295168    \n",
            "                                                                 \n",
            " block3_conv2 (Conv2D)       (None, 56, 56, 256)       590080    \n",
            "                                                                 \n",
            " block3_conv3 (Conv2D)       (None, 56, 56, 256)       590080    \n",
            "                                                                 \n",
            " block3_pool (MaxPooling2D)  (None, 28, 28, 256)       0         \n",
            "                                                                 \n",
            " block4_conv1 (Conv2D)       (None, 28, 28, 512)       1180160   \n",
            "                                                                 \n",
            " block4_conv2 (Conv2D)       (None, 28, 28, 512)       2359808   \n",
            "                                                                 \n",
            " block4_conv3 (Conv2D)       (None, 28, 28, 512)       2359808   \n",
            "                                                                 \n",
            " block4_pool (MaxPooling2D)  (None, 14, 14, 512)       0         \n",
            "                                                                 \n",
            " block5_conv1 (Conv2D)       (None, 14, 14, 512)       2359808   \n",
            "                                                                 \n",
            " block5_conv2 (Conv2D)       (None, 14, 14, 512)       2359808   \n",
            "                                                                 \n",
            " block5_conv3 (Conv2D)       (None, 14, 14, 512)       2359808   \n",
            "                                                                 \n",
            " block5_pool (MaxPooling2D)  (None, 7, 7, 512)         0         \n",
            "                                                                 \n",
            " flatten (Flatten)           (None, 25088)             0         \n",
            "                                                                 \n",
            " dense (Dense)               (None, 2)                 50178     \n",
            "                                                                 \n",
            "=================================================================\n",
            "Total params: 14,764,866\n",
            "Trainable params: 50,178\n",
            "Non-trainable params: 14,714,688\n",
            "_________________________________________________________________\n"
          ]
        }
      ]
    },
    {
      "cell_type": "code",
      "metadata": {
        "id": "4U8S_BUPCaI8"
      },
      "source": [
        "\n",
        "model.compile(\n",
        "  loss='categorical_crossentropy',\n",
        "  optimizer='adam',\n",
        "  metrics=['accuracy']\n",
        ")"
      ],
      "execution_count": null,
      "outputs": []
    },
    {
      "cell_type": "code",
      "metadata": {
        "id": "H5nf0dr4C3Ez"
      },
      "source": [
        "\n",
        "from keras.preprocessing.image import ImageDataGenerator"
      ],
      "execution_count": null,
      "outputs": []
    },
    {
      "cell_type": "code",
      "metadata": {
        "id": "T0HL9z_cC3Bm"
      },
      "source": [
        "\n",
        "train_datagen = ImageDataGenerator(rescale=1/255,\n",
        "                             rotation_range=20,\n",
        "                             horizontal_flip=True,\n",
        "                             height_shift_range=0.1,\n",
        "                             width_shift_range=0.1,\n",
        "                             shear_range=0.1,\n",
        ")"
      ],
      "execution_count": null,
      "outputs": []
    },
    {
      "cell_type": "code",
      "metadata": {
        "id": "gJSll2PXC2-9"
      },
      "source": [
        "\n",
        "Valid_datagen = ImageDataGenerator(rescale = 1./255)"
      ],
      "execution_count": null,
      "outputs": []
    },
    {
      "cell_type": "code",
      "metadata": {
        "colab": {
          "base_uri": "https://localhost:8080/"
        },
        "id": "ZTwq1Lu9C28O",
        "outputId": "1226bfd9-76f4-42ac-fc01-7ba0c6418345"
      },
      "source": [
        "training_set = train_datagen.flow_from_directory('/content/drive/MyDrive/Tuberculosis/Train',\n",
        "                                                 target_size = (224, 224),\n",
        "                                                 batch_size = 32,\n",
        "                                                 class_mode = 'categorical')"
      ],
      "execution_count": null,
      "outputs": [
        {
          "output_type": "stream",
          "name": "stdout",
          "text": [
            "Found 4214 images belonging to 2 classes.\n"
          ]
        }
      ]
    },
    {
      "cell_type": "code",
      "metadata": {
        "colab": {
          "base_uri": "https://localhost:8080/"
        },
        "id": "B838aGLMC25W",
        "outputId": "989b84e4-d688-43ac-8390-493e45d4e711"
      },
      "source": [
        "Valid_set = Valid_datagen.flow_from_directory('/content/drive/MyDrive/Tuberculosis/valid',\n",
        "                                            target_size = (224, 224),\n",
        "                                            batch_size = 32,\n",
        "                                            class_mode = 'categorical')"
      ],
      "execution_count": null,
      "outputs": [
        {
          "output_type": "stream",
          "name": "stdout",
          "text": [
            "Found 1400 images belonging to 2 classes.\n"
          ]
        }
      ]
    },
    {
      "cell_type": "code",
      "metadata": {
        "colab": {
          "base_uri": "https://localhost:8080/"
        },
        "id": "bXFCJsvaDLjq",
        "outputId": "a4444eda-0dfd-4ae8-e8a1-45e8006ca205"
      },
      "source": [
        "m = model.fit_generator(\n",
        "  training_set,\n",
        "  validation_data=Valid_set,\n",
        "  epochs=4,\n",
        "  steps_per_epoch=len(training_set),\n",
        "  validation_steps=len(Valid_set)\n",
        ")"
      ],
      "execution_count": null,
      "outputs": [
        {
          "output_type": "stream",
          "name": "stderr",
          "text": [
            "<ipython-input-19-220db9e67d1b>:1: UserWarning: `Model.fit_generator` is deprecated and will be removed in a future version. Please use `Model.fit`, which supports generators.\n",
            "  m = model.fit_generator(\n"
          ]
        },
        {
          "output_type": "stream",
          "name": "stdout",
          "text": [
            "Epoch 1/4\n",
            "132/132 [==============================] - 1181s 9s/step - loss: 0.3254 - accuracy: 0.8571 - val_loss: 0.1081 - val_accuracy: 0.9571\n",
            "Epoch 2/4\n",
            "132/132 [==============================] - 103s 779ms/step - loss: 0.1834 - accuracy: 0.9236 - val_loss: 0.0731 - val_accuracy: 0.9714\n",
            "Epoch 3/4\n",
            "132/132 [==============================] - 102s 776ms/step - loss: 0.1127 - accuracy: 0.9566 - val_loss: 0.0577 - val_accuracy: 0.9779\n",
            "Epoch 4/4\n",
            "132/132 [==============================] - 103s 779ms/step - loss: 0.1165 - accuracy: 0.9580 - val_loss: 0.0418 - val_accuracy: 0.9843\n"
          ]
        }
      ]
    },
    {
      "cell_type": "code",
      "metadata": {
        "colab": {
          "base_uri": "https://localhost:8080/",
          "height": 282
        },
        "id": "_W4pCekYDLgK",
        "outputId": "c44242c0-f44e-44f0-bacb-9f836616661b"
      },
      "source": [
        "# plot the loss \n",
        "plt.plot(m.history['loss'], label='train loss')\n",
        "plt.plot(m.history['val_loss'], label='validation loss')\n",
        "plt.legend()\n",
        "plt.show()\n",
        "plt.savefig('LossVal_loss')"
      ],
      "execution_count": null,
      "outputs": [
        {
          "output_type": "display_data",
          "data": {
            "text/plain": [
              "<Figure size 432x288 with 1 Axes>"
            ],
            "image/png": "[encoded data removed]"
          },
          "metadata": {
            "needs_background": "light"
          }
        },
        {
          "output_type": "display_data",
          "data": {
            "text/plain": [
              "<Figure size 432x288 with 0 Axes>"
            ]
          },
          "metadata": {}
        }
      ]
    },
    {
      "cell_type": "code",
      "metadata": {
        "colab": {
          "base_uri": "https://localhost:8080/",
          "height": 282
        },
        "id": "P0-kvoXbDLdB",
        "outputId": "2d7e8605-ad13-4efc-8827-7d1615a64aa7"
      },
      "source": [
        "\n",
        "# plot the accuracy\n",
        "plt.plot(m.history['accuracy'], label='train accuracy')\n",
        "plt.plot(m.history['val_accuracy'], label='validation accuracy')\n",
        "plt.legend()\n",
        "plt.show()\n",
        "plt.savefig('AccVal_acc')"
      ],
      "execution_count": null,
      "outputs": [
        {
          "output_type": "display_data",
          "data": {
            "text/plain": [
              "<Figure size 432x288 with 1 Axes>"
            ],
            "image/png": "[encoded data removed]"
          },
          "metadata": {
            "needs_background": "light"
          }
        },
        {
          "output_type": "display_data",
          "data": {
            "text/plain": [
              "<Figure size 432x288 with 0 Axes>"
            ]
          },
          "metadata": {}
        }
      ]
    },
    {
      "cell_type": "code",
      "metadata": {
        "id": "qiJGaca-C2yj"
      },
      "source": [
        "test_datagen = ImageDataGenerator(rescale = 1./255)"
      ],
      "execution_count": null,
      "outputs": []
    },
    {
      "cell_type": "code",
      "metadata": {
        "colab": {
          "base_uri": "https://localhost:8080/"
        },
        "id": "00sz2P1vNu_U",
        "outputId": "dcca61c8-465a-4341-c2e2-ce9c61e17e4b"
      },
      "source": [
        "test_set = test_datagen.flow_from_directory('/content/drive/MyDrive/Tuberculosis/Test',\n",
        "                                            target_size = (224, 224),\n",
        "                                            batch_size = 32,\n",
        "                                            class_mode = 'categorical')"
      ],
      "execution_count": null,
      "outputs": [
        {
          "output_type": "stream",
          "name": "stdout",
          "text": [
            "Found 1400 images belonging to 2 classes.\n"
          ]
        }
      ]
    },
    {
      "cell_type": "code",
      "metadata": {
        "colab": {
          "base_uri": "https://localhost:8080/"
        },
        "id": "0-y7gQiFNu6u",
        "outputId": "b244dfd8-2dca-4e2a-d4e2-a337c7c2dda6"
      },
      "source": [
        "test_loss, test_accuracy = model.evaluate(\n",
        "  test_set,\n",
        "  steps=len(test_set),\n",
        ")"
      ],
      "execution_count": null,
      "outputs": [
        {
          "output_type": "stream",
          "name": "stdout",
          "text": [
            "44/44 [==============================] - 210s 5s/step - loss: 0.0481 - accuracy: 0.9843\n"
          ]
        }
      ]
    },
    {
      "cell_type": "code",
      "metadata": {
        "colab": {
          "base_uri": "https://localhost:8080/"
        },
        "id": "tmev5GQuNu35",
        "outputId": "0676a404-adc7-41b3-c061-6b6e3f8ec8aa"
      },
      "source": [
        "print(\"accuracy on test dataset\",test_accuracy)\n",
        "print(\"----\")\n",
        "print(\"loss on test set\",test_loss)"
      ],
      "execution_count": null,
      "outputs": [
        {
          "output_type": "stream",
          "name": "stdout",
          "text": [
            "accuracy on test dataset 0.9842857122421265\n",
            "----\n",
            "loss on test set 0.04810972884297371\n"
          ]
        }
      ]
    },
    {
      "cell_type": "code",
      "metadata": {
        "id": "d0j43jhTNu03"
      },
      "source": [
        "\n",
        "model.save('Tuberculosis.h5')"
      ],
      "execution_count": null,
      "outputs": []
    }
  ]
}