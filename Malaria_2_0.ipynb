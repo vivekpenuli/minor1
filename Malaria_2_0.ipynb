{
  "nbformat": 4,
  "nbformat_minor": 0,
  "metadata": {
    "colab": {
      "name": "Malaria 2.0",
      "provenance": [],
      "include_colab_link": true
    },
    "kernelspec": {
      "name": "python3",
      "display_name": "Python 3"
    },
    "accelerator": "GPU"
  },
  "cells": [
    {
      "cell_type": "markdown",
      "metadata": {
        "id": "view-in-github",
        "colab_type": "text"
      },
      "source": [
        "<a href=\"https://colab.research.google.com/github/vivekpenuli/minor1/blob/main/Malaria_2_0.ipynb\" target=\"_parent\"><img src=\"https://colab.research.google.com/assets/colab-badge.svg\" alt=\"Open In Colab\"/></a>"
      ]
    },
    {
      "cell_type": "code",
      "metadata": {
        "colab": {
          "base_uri": "https://localhost:8080/"
        },
        "id": "wQC8xafm9FAp",
        "outputId": "92ecd1c6-5b48-4c12-80bb-d870422acdd6"
      },
      "source": [
        "from google.colab import drive\n",
        "drive.mount('/content/drive/')"
      ],
      "execution_count": null,
      "outputs": [
        {
          "output_type": "stream",
          "text": [
            "Drive already mounted at /content/drive/; to attempt to forcibly remount, call drive.mount(\"/content/drive/\", force_remount=True).\n"
          ],
          "name": "stdout"
        }
      ]
    },
    {
      "cell_type": "code",
      "metadata": {
        "id": "94j72JsW9KIl"
      },
      "source": [
        "import keras\n",
        "\n",
        "#import the required libraries and methods\n",
        "from keras.layers import Input, Lambda, Dense, Flatten, Dropout\n",
        "from keras.models import Model\n",
        "from keras.applications.vgg16 import VGG16\n",
        "from keras.applications.vgg16 import preprocess_input\n",
        "from keras.preprocessing import image\n",
        "from keras.preprocessing.image import ImageDataGenerator\n",
        "from keras.models import Sequential\n",
        "import numpy as np\n",
        "from glob import glob\n",
        "import matplotlib.pyplot as plt\n"
      ],
      "execution_count": null,
      "outputs": []
    },
    {
      "cell_type": "code",
      "metadata": {
        "id": "rpw2hBSb9J-l"
      },
      "source": [
        "ImgSize = [224, 224]\n",
        "#To get the location of \"malaria detection cell images\" dataset in the drive\n",
        "train_path = '/content/drive/MyDrive/Dataset/Train'\n",
        "test_path = '/content/drive/MyDrive/Malariya/Test'\n",
        "validation_path='/content/drive/MyDrive/Dataset/Valid'"
      ],
      "execution_count": null,
      "outputs": []
    },
    {
      "cell_type": "code",
      "metadata": {
        "id": "ht46_lH0Segm"
      },
      "source": [
        "vgg = VGG16(input_shape=ImgSize + [3], weights='imagenet', include_top=False)"
      ],
      "execution_count": null,
      "outputs": []
    },
    {
      "cell_type": "code",
      "metadata": {
        "id": "TrlpUN5SZSWf"
      },
      "source": [
        "import os\n",
        "\n",
        "train_para_dir = os.path.join(train_path,'Parasite')  # directory with our training cat pictures\n",
        "train_un_dir = os.path.join(train_path, 'Uninfected')  # directory with our training dog pictures\n",
        "Testing_para_dir = os.path.join(test_path, 'Parasite')  # directory with our validation cat pictures\n",
        "Testing_un_dir = os.path.join(test_path, 'Uninfected')\n",
        "validation_para_dir = os.path.join(validation_path, 'infected')  # directory with our validation cat pictures\n",
        "validation_un_dir = os.path.join(validation_path, 'uninfected')"
      ],
      "execution_count": null,
      "outputs": []
    },
    {
      "cell_type": "code",
      "metadata": {
        "id": "bYxFUSPtZYXr"
      },
      "source": [
        "\n",
        "num_para_tr = len(os.listdir(train_para_dir))\n",
        "num_un_tr = len(os.listdir(train_un_dir))\n",
        "\n",
        "num_para_test = len(os.listdir(Testing_para_dir))\n",
        "num_un_test = len(os.listdir(Testing_un_dir))\n",
        "\n",
        "\n",
        "num_para_val = len(os.listdir(validation_para_dir))\n",
        "num_un_val = len(os.listdir(validation_un_dir))\n",
        "\n",
        "total_train = num_para_tr + num_un_tr\n",
        "total_val = num_para_val + num_un_val\n",
        "total_test=num_para_test + num_un_test"
      ],
      "execution_count": null,
      "outputs": []
    },
    {
      "cell_type": "code",
      "metadata": {
        "colab": {
          "base_uri": "https://localhost:8080/"
        },
        "id": "w35PGq11ZZ8G",
        "outputId": "29d34bbf-e6af-4c27-8c0f-1e6460ede79c"
      },
      "source": [
        "print('total training parasitized images:', num_para_tr)\n",
        "print('total training uninfected images:', num_un_tr)\n",
        "print(\"--\")\n",
        "print('total Testing parasitized images:', num_para_test)\n",
        "print('total Testing uninfected images:', num_un_test)\n",
        "print(\"--\")\n",
        "print('total validation parasitized images:', num_para_val)\n",
        "print('total validation uninfected images:', num_un_val)\n",
        "print(\"--\")\n",
        "print(\"Total training images:\", total_train)\n",
        "print(\"Total Testing images:\", total_test)\n",
        "print(\"Total validation images:\", total_val)"
      ],
      "execution_count": null,
      "outputs": [
        {
          "output_type": "stream",
          "text": [
            "total training parasitized images: 4000\n",
            "total training uninfected images: 4000\n",
            "--\n",
            "total Testing parasitized images: 800\n",
            "total Testing uninfected images: 800\n",
            "--\n",
            "total validation parasitized images: 800\n",
            "total validation uninfected images: 800\n",
            "--\n",
            "Total training images: 8000\n",
            "Total Testing images: 1600\n",
            "Total validation images: 1600\n"
          ],
          "name": "stdout"
        }
      ]
    },
    {
      "cell_type": "code",
      "metadata": {
        "id": "2cPHCP8vSedH"
      },
      "source": [
        "for layer in vgg.layers:\n",
        "    layer.trainable = False"
      ],
      "execution_count": null,
      "outputs": []
    },
    {
      "cell_type": "code",
      "metadata": {
        "colab": {
          "base_uri": "https://localhost:8080/"
        },
        "id": "SpFLpgSoSjjM",
        "outputId": "bbee915e-ee3f-4073-d410-edf0e51666b2"
      },
      "source": [
        "folders = glob('/content/drive/MyDrive/Dataset/*')\n",
        "print(folders)"
      ],
      "execution_count": null,
      "outputs": [
        {
          "output_type": "stream",
          "text": [
            "['/content/drive/MyDrive/Dataset/Train', '/content/drive/MyDrive/Dataset/Valid']\n"
          ],
          "name": "stdout"
        }
      ]
    },
    {
      "cell_type": "code",
      "metadata": {
        "id": "s-pLIvnUSvS6"
      },
      "source": [
        "x = Flatten()(vgg.output)\n",
        "prediction = Dense(len(folders), activation='softmax')(x)"
      ],
      "execution_count": null,
      "outputs": []
    },
    {
      "cell_type": "code",
      "metadata": {
        "id": "HtSDrLCfSw1-"
      },
      "source": [
        "model = Model(inputs=vgg.input, outputs=prediction)"
      ],
      "execution_count": null,
      "outputs": []
    },
    {
      "cell_type": "code",
      "metadata": {
        "colab": {
          "base_uri": "https://localhost:8080/"
        },
        "id": "LRh7F3VK-pHf",
        "outputId": "b3c1cc46-df33-4d62-ce55-80df474e18f9"
      },
      "source": [
        "model.summary()"
      ],
      "execution_count": null,
      "outputs": [
        {
          "output_type": "stream",
          "text": [
            "Model: \"model\"\n",
            "_________________________________________________________________\n",
            "Layer (type)                 Output Shape              Param #   \n",
            "=================================================================\n",
            "input_1 (InputLayer)         [(None, 224, 224, 3)]     0         \n",
            "_________________________________________________________________\n",
            "block1_conv1 (Conv2D)        (None, 224, 224, 64)      1792      \n",
            "_________________________________________________________________\n",
            "block1_conv2 (Conv2D)        (None, 224, 224, 64)      36928     \n",
            "_________________________________________________________________\n",
            "block1_pool (MaxPooling2D)   (None, 112, 112, 64)      0         \n",
            "_________________________________________________________________\n",
            "block2_conv1 (Conv2D)        (None, 112, 112, 128)     73856     \n",
            "_________________________________________________________________\n",
            "block2_conv2 (Conv2D)        (None, 112, 112, 128)     147584    \n",
            "_________________________________________________________________\n",
            "block2_pool (MaxPooling2D)   (None, 56, 56, 128)       0         \n",
            "_________________________________________________________________\n",
            "block3_conv1 (Conv2D)        (None, 56, 56, 256)       295168    \n",
            "_________________________________________________________________\n",
            "block3_conv2 (Conv2D)        (None, 56, 56, 256)       590080    \n",
            "_________________________________________________________________\n",
            "block3_conv3 (Conv2D)        (None, 56, 56, 256)       590080    \n",
            "_________________________________________________________________\n",
            "block3_pool (MaxPooling2D)   (None, 28, 28, 256)       0         \n",
            "_________________________________________________________________\n",
            "block4_conv1 (Conv2D)        (None, 28, 28, 512)       1180160   \n",
            "_________________________________________________________________\n",
            "block4_conv2 (Conv2D)        (None, 28, 28, 512)       2359808   \n",
            "_________________________________________________________________\n",
            "block4_conv3 (Conv2D)        (None, 28, 28, 512)       2359808   \n",
            "_________________________________________________________________\n",
            "block4_pool (MaxPooling2D)   (None, 14, 14, 512)       0         \n",
            "_________________________________________________________________\n",
            "block5_conv1 (Conv2D)        (None, 14, 14, 512)       2359808   \n",
            "_________________________________________________________________\n",
            "block5_conv2 (Conv2D)        (None, 14, 14, 512)       2359808   \n",
            "_________________________________________________________________\n",
            "block5_conv3 (Conv2D)        (None, 14, 14, 512)       2359808   \n",
            "_________________________________________________________________\n",
            "block5_pool (MaxPooling2D)   (None, 7, 7, 512)         0         \n",
            "_________________________________________________________________\n",
            "flatten (Flatten)            (None, 25088)             0         \n",
            "_________________________________________________________________\n",
            "dense (Dense)                (None, 2)                 50178     \n",
            "=================================================================\n",
            "Total params: 14,764,866\n",
            "Trainable params: 50,178\n",
            "Non-trainable params: 14,714,688\n",
            "_________________________________________________________________\n"
          ],
          "name": "stdout"
        }
      ]
    },
    {
      "cell_type": "code",
      "metadata": {
        "id": "HleUxWdR-6w3"
      },
      "source": [
        "model.compile(\n",
        "  loss='categorical_crossentropy',\n",
        "  optimizer='adam',\n",
        "  metrics=['accuracy']\n",
        ")"
      ],
      "execution_count": null,
      "outputs": []
    },
    {
      "cell_type": "code",
      "metadata": {
        "id": "DhXeeRK1-9XK"
      },
      "source": [
        "from keras.preprocessing.image import ImageDataGenerator"
      ],
      "execution_count": null,
      "outputs": []
    },
    {
      "cell_type": "code",
      "metadata": {
        "id": "fkfnOVrs--Ki"
      },
      "source": [
        "train_datagen = ImageDataGenerator(rescale=1/255,\n",
        "                             rotation_range=20,\n",
        "                             horizontal_flip=True,\n",
        "                             height_shift_range=0.1,\n",
        "                             width_shift_range=0.1,\n",
        "                             shear_range=0.1,\n",
        ")"
      ],
      "execution_count": null,
      "outputs": []
    },
    {
      "cell_type": "code",
      "metadata": {
        "id": "0F3wvmMp_Cue"
      },
      "source": [
        "\n",
        "Valid_datagen = ImageDataGenerator(rescale = 1./255)"
      ],
      "execution_count": null,
      "outputs": []
    },
    {
      "cell_type": "code",
      "metadata": {
        "colab": {
          "base_uri": "https://localhost:8080/"
        },
        "id": "ncYnhyAO_Fgm",
        "outputId": "44eb199f-4d72-4869-ba9d-f561059f0c1f"
      },
      "source": [
        "training_set = train_datagen.flow_from_directory('/content/drive/MyDrive/Dataset/Train',\n",
        "                                                 target_size = (224, 224),\n",
        "                                                 batch_size = 32,\n",
        "                                                 class_mode = 'categorical')"
      ],
      "execution_count": null,
      "outputs": [
        {
          "output_type": "stream",
          "text": [
            "Found 8000 images belonging to 2 classes.\n"
          ],
          "name": "stdout"
        }
      ]
    },
    {
      "cell_type": "code",
      "metadata": {
        "colab": {
          "base_uri": "https://localhost:8080/"
        },
        "id": "iAH3GC5a_OgP",
        "outputId": "d54c87f7-5f82-411d-e2f2-e31a76245325"
      },
      "source": [
        "Valid_set = Valid_datagen.flow_from_directory('/content/drive/MyDrive/Dataset/Valid',\n",
        "                                            target_size = (224, 224),\n",
        "                                            batch_size = 32,\n",
        "                                            class_mode = 'categorical')\n"
      ],
      "execution_count": null,
      "outputs": [
        {
          "output_type": "stream",
          "text": [
            "Found 1600 images belonging to 2 classes.\n"
          ],
          "name": "stdout"
        }
      ]
    },
    {
      "cell_type": "code",
      "metadata": {
        "colab": {
          "base_uri": "https://localhost:8080/"
        },
        "id": "N1Zh0q7O_SVG",
        "outputId": "492bb50c-27f5-438a-d056-cc4a72ddf550"
      },
      "source": [
        "m = model.fit_generator(\n",
        "  training_set,\n",
        "  validation_data=Valid_set,\n",
        "  epochs=4,\n",
        "  steps_per_epoch=len(training_set),\n",
        "  validation_steps=len(Valid_set)\n",
        ")"
      ],
      "execution_count": null,
      "outputs": [
        {
          "output_type": "stream",
          "text": [
            "/usr/local/lib/python3.7/dist-packages/tensorflow/python/keras/engine/training.py:1844: UserWarning: `Model.fit_generator` is deprecated and will be removed in a future version. Please use `Model.fit`, which supports generators.\n",
            "  warnings.warn('`Model.fit_generator` is deprecated and '\n"
          ],
          "name": "stderr"
        },
        {
          "output_type": "stream",
          "text": [
            "Epoch 1/4\n",
            "250/250 [==============================] - 1752s 7s/step - loss: 0.3645 - accuracy: 0.8447 - val_loss: 0.2960 - val_accuracy: 0.8581\n",
            "Epoch 2/4\n",
            "250/250 [==============================] - 120s 482ms/step - loss: 0.2692 - accuracy: 0.8941 - val_loss: 0.3568 - val_accuracy: 0.8456\n",
            "Epoch 3/4\n",
            "250/250 [==============================] - 121s 483ms/step - loss: 0.2541 - accuracy: 0.9009 - val_loss: 0.2215 - val_accuracy: 0.9069\n",
            "Epoch 4/4\n",
            "250/250 [==============================] - 114s 454ms/step - loss: 0.2316 - accuracy: 0.9078 - val_loss: 0.2566 - val_accuracy: 0.9056\n"
          ],
          "name": "stdout"
        }
      ]
    },
    {
      "cell_type": "code",
      "metadata": {
        "id": "6fV7_TfvQ7Wv"
      },
      "source": [],
      "execution_count": null,
      "outputs": []
    },
    {
      "cell_type": "code",
      "metadata": {
        "colab": {
          "base_uri": "https://localhost:8080/",
          "height": 282
        },
        "id": "CJ8DWylSHQ2Z",
        "outputId": "a9eb55d8-7675-4ca3-94ee-be73c05cdbce"
      },
      "source": [
        "# plot the loss \n",
        "plt.plot(m.history['loss'], label='train loss')\n",
        "plt.plot(m.history['val_loss'], label='validation loss')\n",
        "plt.legend()\n",
        "plt.show()\n",
        "plt.savefig('LossVal_loss')"
      ],
      "execution_count": null,
      "outputs": [
        {
          "output_type": "display_data",
          "data": {
            "image/png": "[encoded data removed]",
            "text/plain": [
              "<Figure size 432x288 with 1 Axes>"
            ]
          },
          "metadata": {
            "tags": [],
            "needs_background": "light"
          }
        },
        {
          "output_type": "display_data",
          "data": {
            "text/plain": [
              "<Figure size 432x288 with 0 Axes>"
            ]
          },
          "metadata": {
            "tags": []
          }
        }
      ]
    },
    {
      "cell_type": "code",
      "metadata": {
        "colab": {
          "base_uri": "https://localhost:8080/",
          "height": 284
        },
        "id": "bl4U-uoDHTOB",
        "outputId": "ac3d9a0d-502d-4629-a8c6-2748e17681e6"
      },
      "source": [
        "# plot the accuracy\n",
        "plt.plot(m.history['accuracy'], label='train accuracy')\n",
        "plt.plot(m.history['val_accuracy'], label='validation accuracy')\n",
        "plt.legend()\n",
        "plt.show()\n",
        "plt.savefig('AccVal_acc')"
      ],
      "execution_count": null,
      "outputs": [
        {
          "output_type": "display_data",
          "data": {
            "image/png": "[encoded data removed]",
            "text/plain": [
              "<Figure size 432x288 with 1 Axes>"
            ]
          },
          "metadata": {
            "tags": [],
            "needs_background": "light"
          }
        },
        {
          "output_type": "display_data",
          "data": {
            "text/plain": [
              "<Figure size 432x288 with 0 Axes>"
            ]
          },
          "metadata": {
            "tags": []
          }
        }
      ]
    },
    {
      "cell_type": "code",
      "metadata": {
        "id": "9N118elmUTl8"
      },
      "source": [
        "test_datagen = ImageDataGenerator(rescale = 1./255)"
      ],
      "execution_count": null,
      "outputs": []
    },
    {
      "cell_type": "code",
      "metadata": {
        "colab": {
          "base_uri": "https://localhost:8080/"
        },
        "id": "Gt657jVwUZ6H",
        "outputId": "2972cb5e-9682-4f54-c5c4-34ca2df4a7bd"
      },
      "source": [
        "test_set = test_datagen.flow_from_directory('/content/drive/MyDrive/Malariya/Test',\n",
        "                                            target_size = (224, 224),\n",
        "                                            batch_size = 32,\n",
        "                                            class_mode = 'categorical')"
      ],
      "execution_count": null,
      "outputs": [
        {
          "output_type": "stream",
          "text": [
            "Found 1600 images belonging to 2 classes.\n"
          ],
          "name": "stdout"
        }
      ]
    },
    {
      "cell_type": "code",
      "metadata": {
        "colab": {
          "base_uri": "https://localhost:8080/"
        },
        "id": "5q42Xk7MTsqS",
        "outputId": "ccd0e6f8-8b46-4e08-eaeb-12c68dfd025b"
      },
      "source": [
        "test_loss, test_accuracy = model.evaluate(\n",
        "  test_set,\n",
        "  steps=len(test_set),\n",
        ")"
      ],
      "execution_count": null,
      "outputs": [
        {
          "output_type": "stream",
          "text": [
            "50/50 [==============================] - 7s 139ms/step - loss: 0.4253 - accuracy: 0.8531\n"
          ],
          "name": "stdout"
        }
      ]
    },
    {
      "cell_type": "code",
      "metadata": {
        "colab": {
          "base_uri": "https://localhost:8080/"
        },
        "id": "fiooK-k1U7-k",
        "outputId": "38d69ea9-2903-4612-bb28-ec72b0fd903b"
      },
      "source": [
        "print(\"accuracy on test dataset\",test_accuracy)\n",
        "print(\"----\")\n",
        "print(\"loss on test set\",test_loss)"
      ],
      "execution_count": null,
      "outputs": [
        {
          "output_type": "stream",
          "text": [
            "accuracy on test dataset 0.8531249761581421\n",
            "----\n",
            "loss on test set 0.42526236176490784\n"
          ],
          "name": "stdout"
        }
      ]
    },
    {
      "cell_type": "code",
      "metadata": {
        "id": "SpxalGCXTZZy"
      },
      "source": [
        "model.save('finalmalariyamodel.h5')"
      ],
      "execution_count": null,
      "outputs": []
    }
  ]
}